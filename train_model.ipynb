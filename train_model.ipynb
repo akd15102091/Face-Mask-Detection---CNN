{
 "cells": [
  {
   "cell_type": "code",
   "execution_count": 1,
   "metadata": {},
   "outputs": [],
   "source": [
    "import numpy as np\n",
    "from matplotlib import pyplot as plt\n",
    "import os\n",
    "import cv2\n",
    "import random\n",
    "from tensorflow.keras.models import Sequential\n",
    "from tensorflow.keras.layers import Dense, Dropout, Flatten, Conv2D, MaxPooling2D, BatchNormalization\n",
    "from tensorflow.keras.optimizers import RMSprop"
   ]
  },
  {
   "cell_type": "code",
   "execution_count": 3,
   "metadata": {},
   "outputs": [],
   "source": [
    "DATADIR = 'data'\n",
    "CLASS = ['with_mask','without_mask']\n",
    "IMG_SIZE = 50\n",
    "\n",
    "# building the training data\n",
    "def create_training_data(): \n",
    "    \n",
    "    training_data = []\n",
    "    for cl in CLASS:\n",
    "        path = os.path.join(DATADIR, cl)\n",
    "        class_num = CLASS.index(cl)\n",
    "        for img in os.listdir(path):\n",
    "            try:\n",
    "                img_array = cv2.imread(os.path.join(path, img))\n",
    "                img_array = cv2.resize(img_array, (IMG_SIZE, IMG_SIZE))\n",
    "                gray_img = cv2.cvtColor(img_array, cv2.COLOR_BGR2GRAY)\n",
    "                training_data.append([gray_img, class_num])\n",
    "            except Exception as e:\n",
    "                pass\n",
    "    random.shuffle(training_data)\n",
    "    return training_data\n",
    "\n",
    "training_data = create_training_data()"
   ]
  },
  {
   "cell_type": "code",
   "execution_count": 4,
   "metadata": {},
   "outputs": [
    {
     "name": "stdout",
     "output_type": "stream",
     "text": [
      "7553\n"
     ]
    }
   ],
   "source": [
    "#shuffle the data\n",
    "random.shuffle(training_data)\n",
    "print(len(training_data))"
   ]
  },
  {
   "cell_type": "code",
   "execution_count": 5,
   "metadata": {},
   "outputs": [],
   "source": [
    "X = []\n",
    "y = []\n",
    "\n",
    "for features, label in training_data:\n",
    "    X.append(features)\n",
    "    y.append(label)"
   ]
  },
  {
   "cell_type": "code",
   "execution_count": 6,
   "metadata": {},
   "outputs": [
    {
     "data": {
      "text/plain": [
       "(50, 50)"
      ]
     },
     "execution_count": 6,
     "metadata": {},
     "output_type": "execute_result"
    }
   ],
   "source": [
    "X[0].shape"
   ]
  },
  {
   "cell_type": "code",
   "execution_count": 7,
   "metadata": {},
   "outputs": [],
   "source": [
    "X = np.array(X).reshape(-1, IMG_SIZE, IMG_SIZE, 1)\n",
    "y = np.array(y)"
   ]
  },
  {
   "cell_type": "code",
   "execution_count": 8,
   "metadata": {},
   "outputs": [],
   "source": [
    "# normalizing the data\n",
    "X = X/255.0"
   ]
  },
  {
   "cell_type": "code",
   "execution_count": 9,
   "metadata": {},
   "outputs": [],
   "source": [
    "# building the model\n",
    "model = Sequential()\n",
    "\n",
    "model.add(Conv2D(32, kernel_size=(3, 3), activation='relu', input_shape=X.shape[1:], data_format='channels_last',))\n",
    "model.add(BatchNormalization())\n",
    "model.add(MaxPooling2D(pool_size=(2, 2), strides=(2, 2)))\n",
    "\n",
    "model.add(Conv2D(64, kernel_size=(3, 3), activation='relu', padding='same'))\n",
    "model.add(BatchNormalization())\n",
    "model.add(MaxPooling2D(pool_size=(2, 2), strides=(2, 2)))\n",
    "\n",
    "model.add(Conv2D(128, kernel_size=(3, 3), activation='relu', padding='same'))\n",
    "model.add(BatchNormalization())\n",
    "model.add(MaxPooling2D(pool_size=(2, 2), strides=(2, 2)))\n",
    "\n",
    "model.add(Conv2D(256, kernel_size=(3, 3), activation='relu', padding='same'))\n",
    "model.add(BatchNormalization())\n",
    "model.add(MaxPooling2D(pool_size=(2, 2), strides=(2, 2)))\n",
    "\n",
    "model.add(Flatten())\n",
    "\n",
    "model.add(Dense(256, activation='relu'))\n",
    "model.add(Dense(128, activation='relu'))\n",
    "model.add(Dense(64, activation='relu'))\n",
    "\n",
    "model.add(Dense(1, activation='sigmoid'))\n",
    "\n",
    "model.compile(loss='binary_crossentropy', optimizer='adam',metrics=['accuracy'])"
   ]
  },
  {
   "cell_type": "code",
   "execution_count": 10,
   "metadata": {},
   "outputs": [
    {
     "name": "stdout",
     "output_type": "stream",
     "text": [
      "Epoch 1/15\n",
      "189/189 [==============================] - 24s 115ms/step - loss: 0.5094 - accuracy: 0.7447 - val_loss: 2.4049 - val_accuracy: 0.5017\n",
      "Epoch 2/15\n",
      "189/189 [==============================] - 21s 109ms/step - loss: 0.2554 - accuracy: 0.8886 - val_loss: 1.4050 - val_accuracy: 0.6115\n",
      "Epoch 3/15\n",
      "189/189 [==============================] - 20s 105ms/step - loss: 0.1710 - accuracy: 0.9311 - val_loss: 0.7548 - val_accuracy: 0.7465\n",
      "Epoch 4/15\n",
      "189/189 [==============================] - 21s 110ms/step - loss: 0.1141 - accuracy: 0.9529 - val_loss: 0.2165 - val_accuracy: 0.9087\n",
      "Epoch 5/15\n",
      "189/189 [==============================] - 21s 109ms/step - loss: 0.0824 - accuracy: 0.9706 - val_loss: 0.8129 - val_accuracy: 0.7273\n",
      "Epoch 6/15\n",
      "189/189 [==============================] - 20s 104ms/step - loss: 0.0591 - accuracy: 0.9793 - val_loss: 0.5927 - val_accuracy: 0.7710\n",
      "Epoch 7/15\n",
      "189/189 [==============================] - 20s 106ms/step - loss: 0.0557 - accuracy: 0.9782 - val_loss: 0.3033 - val_accuracy: 0.9100\n",
      "Epoch 8/15\n",
      "189/189 [==============================] - 22s 114ms/step - loss: 0.0390 - accuracy: 0.9864 - val_loss: 0.5104 - val_accuracy: 0.7968\n",
      "Epoch 9/15\n",
      "189/189 [==============================] - 22s 114ms/step - loss: 0.0374 - accuracy: 0.9870 - val_loss: 0.3213 - val_accuracy: 0.9298\n",
      "Epoch 10/15\n",
      "189/189 [==============================] - 21s 111ms/step - loss: 0.0158 - accuracy: 0.9958 - val_loss: 0.2456 - val_accuracy: 0.9226\n",
      "Epoch 11/15\n",
      "189/189 [==============================] - 21s 112ms/step - loss: 0.0330 - accuracy: 0.9884 - val_loss: 0.7042 - val_accuracy: 0.8504\n",
      "Epoch 12/15\n",
      "189/189 [==============================] - 20s 105ms/step - loss: 0.0366 - accuracy: 0.9860 - val_loss: 0.2611 - val_accuracy: 0.9212\n",
      "Epoch 13/15\n",
      "189/189 [==============================] - 21s 113ms/step - loss: 0.0236 - accuracy: 0.9915 - val_loss: 0.2079 - val_accuracy: 0.9457\n",
      "Epoch 14/15\n",
      "189/189 [==============================] - 21s 112ms/step - loss: 0.0082 - accuracy: 0.9974 - val_loss: 0.2312 - val_accuracy: 0.9252\n",
      "Epoch 15/15\n",
      "189/189 [==============================] - 21s 111ms/step - loss: 0.0187 - accuracy: 0.9930 - val_loss: 0.2373 - val_accuracy: 0.9358\n"
     ]
    }
   ],
   "source": [
    "history = model.fit(X, y, batch_size=32, validation_split=0.2, epochs=15)"
   ]
  },
  {
   "cell_type": "code",
   "execution_count": 11,
   "metadata": {},
   "outputs": [],
   "source": [
    "\n",
    "from tensorflow.keras.models import load_model\n",
    "\n",
    "model.save('face_mask_detect_model.h5')"
   ]
  },
  {
   "cell_type": "code",
   "execution_count": 12,
   "metadata": {},
   "outputs": [],
   "source": [
    "from tensorflow.keras.preprocessing.image import  load_img\n",
    "from tensorflow.keras.preprocessing import image "
   ]
  },
  {
   "cell_type": "code",
   "execution_count": 13,
   "metadata": {},
   "outputs": [
    {
     "data": {
      "text/plain": [
       "array([[0.00072327]], dtype=float32)"
      ]
     },
     "execution_count": 13,
     "metadata": {},
     "output_type": "execute_result"
    }
   ],
   "source": [
    "pic2_array = cv2.imread(\"data/with_mask/with_mask_1.jpg\", cv2.IMREAD_GRAYSCALE)\n",
    "new_array2 = cv2.resize(pic2_array,(IMG_SIZE,IMG_SIZE))\n",
    "\n",
    "img2_batch = np.expand_dims(new_array2, axis=0)\n",
    "uimg2 = np.resize(img2_batch,(1,50,50,1))\n",
    "\n",
    "uimg2 = uimg2/255.0\n",
    "pred2 = model.predict(uimg2)\n",
    "\n",
    "pred2"
   ]
  },
  {
   "cell_type": "code",
   "execution_count": 15,
   "metadata": {},
   "outputs": [
    {
     "name": "stdout",
     "output_type": "stream",
     "text": [
      "with mask detected\n"
     ]
    }
   ],
   "source": [
    "\n",
    "if pred2<0.5 :\n",
    "    print(\"with mask detected\")\n",
    "    \n",
    "else:\n",
    "    print(\"without mask detected\")"
   ]
  },
  {
   "cell_type": "code",
   "execution_count": 16,
   "metadata": {},
   "outputs": [
    {
     "data": {
      "image/png": "[encoded data removed]",
      "text/plain": [
       "<Figure size 432x288 with 1 Axes>"
      ]
     },
     "metadata": {
      "needs_background": "light"
     },
     "output_type": "display_data"
    },
    {
     "data": {
      "image/png": "[encoded data removed]",
      "text/plain": [
       "<Figure size 432x288 with 1 Axes>"
      ]
     },
     "metadata": {
      "needs_background": "light"
     },
     "output_type": "display_data"
    }
   ],
   "source": [
    "acc = history.history['accuracy']\n",
    "val_acc = history.history['val_accuracy']\n",
    "loss = history.history['loss']\n",
    "val_loss = history.history['val_loss']\n",
    "\n",
    "epochs = range(1, len(acc)+1)\n",
    "\n",
    "plt.plot(epochs, acc, label='Training acc')\n",
    "plt.plot(epochs, val_acc, label='Validation acc')\n",
    "plt.title('Training and validation accuracy')\n",
    "plt.xlabel('epochs')\n",
    "plt.ylabel('acc')\n",
    "plt.legend()\n",
    "\n",
    "plt.figure()\n",
    "\n",
    "plt.plot(epochs, loss, label='Training loss')\n",
    "plt.plot(epochs, val_loss, label='Validation loss')\n",
    "plt.title('Training and validation loss')\n",
    "plt.xlabel('epochs')\n",
    "plt.ylabel('loss')\n",
    "plt.legend()\n",
    "\n",
    "plt.show()"
   ]
  },
  {
   "cell_type": "code",
   "execution_count": null,
   "metadata": {},
   "outputs": [],
   "source": []
  }
 ],
 "metadata": {
  "kernelspec": {
   "display_name": "Python 3",
   "language": "python",
   "name": "python3"
  },
  "language_info": {
   "codemirror_mode": {
    "name": "ipython",
    "version": 3
   },
   "file_extension": ".py",
   "mimetype": "text/x-python",
   "name": "python",
   "nbconvert_exporter": "python",
   "pygments_lexer": "ipython3",
   "version": "3.8.5"
  }
 },
 "nbformat": 4,
 "nbformat_minor": 4
}
